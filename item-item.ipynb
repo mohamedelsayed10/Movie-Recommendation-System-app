{
  "cells": [
    {
      "cell_type": "markdown",
      "metadata": {
        "id": "-5DysE0zoUFA"
      },
      "source": [
        "# `01` Import Necessary Libraries"
      ]
    },
    {
      "cell_type": "code",
      "execution_count": 144,
      "metadata": {
        "id": "2ka2hsQPoUFB"
      },
      "outputs": [],
      "source": [
        "import numpy as np\n",
        "import pandas as pd\n",
        "from sklearn.metrics.pairwise import cosine_similarity\n"
      ]
    },
    {
      "cell_type": "code",
      "execution_count": 156,
      "metadata": {},
      "outputs": [],
      "source": [
        "\n",
        "ratings = pd.read_csv(r\"C:\\Users\\mohamed elsayed\\Desktop\\ml-latest-small\\Movie Recommendation System app\\dataset\\ratings.csv\")\n",
        "movies = pd.read_csv(r\"C:\\Users\\mohamed elsayed\\Desktop\\ml-latest-small\\Movie Recommendation System app\\dataset\\movies.csv\")\n"
      ]
    },
    {
      "cell_type": "code",
      "execution_count": 157,
      "metadata": {},
      "outputs": [],
      "source": [
        "movie_data = pd.merge(ratings, movies, on='movieId')\n"
      ]
    },
    {
      "cell_type": "code",
      "execution_count": 158,
      "metadata": {},
      "outputs": [
        {
          "name": "stderr",
          "output_type": "stream",
          "text": [
            "C:\\Users\\mohamed elsayed\\AppData\\Local\\Temp\\ipykernel_24112\\3742186625.py:2: FutureWarning: A value is trying to be set on a copy of a DataFrame or Series through chained assignment using an inplace method.\n",
            "The behavior will change in pandas 3.0. This inplace method will never work because the intermediate object on which we are setting values always behaves as a copy.\n",
            "\n",
            "For example, when doing 'df[col].method(value, inplace=True)', try using 'df.method({col: value}, inplace=True)' or df[col] = df[col].method(value) instead, to perform the operation inplace on the original object.\n",
            "\n",
            "\n",
            "  movies[\"year\"].fillna(1995, inplace=True)\n"
          ]
        }
      ],
      "source": [
        "\n",
        "movies[\"year\"]=movies[\"title\"].str.extract(r'\\((\\d{4})\\)')\n",
        "movies[\"year\"].fillna(1995, inplace=True)\n",
        "movies[\"year_cat\"]=pd.cut(movies[\"year\"].astype(int), bins=[1900, 1970, 1990, 2000, 2010, 2020], labels=[\"1900-1970\", \"1970-1990\", \"1990-2000\", \"2000-2010\", \"2010-2020\"])\n",
        "year_cat=pd.get_dummies(movies[\"year_cat\"],dtype=int)   \n",
        "year_cat[\"movieId\"]=movies[\"movieId\"] "
      ]
    },
    {
      "cell_type": "code",
      "execution_count": 159,
      "metadata": {},
      "outputs": [],
      "source": [
        "  \n",
        "movie_genres = movies.set_index('movieId')['genres'].str.get_dummies(sep='|')\n"
      ]
    },
    {
      "cell_type": "code",
      "execution_count": 160,
      "metadata": {},
      "outputs": [],
      "source": [
        "utility_matrix= movie_data.pivot_table(index='movieId', columns='userId', values='rating')"
      ]
    },
    {
      "cell_type": "code",
      "execution_count": 161,
      "metadata": {},
      "outputs": [],
      "source": [
        "utility_matrix.fillna(0, inplace=True)\n"
      ]
    },
    {
      "cell_type": "code",
      "execution_count": 162,
      "metadata": {},
      "outputs": [],
      "source": [
        "\n",
        "final=utility_matrix.merge(movie_genres, on='movieId', how='inner')\n",
        "final=final.merge(year_cat, on='movieId', how='inner')\n",
        "final.set_index('movieId', inplace=True)\n"
      ]
    },
    {
      "cell_type": "code",
      "execution_count": 163,
      "metadata": {},
      "outputs": [],
      "source": [
        "similarity=cosine_similarity(final)\n",
        "similarity=pd.DataFrame(similarity, index=final.index, columns=final.index,dtype=float)\n"
      ]
    },
    {
      "cell_type": "code",
      "execution_count": 173,
      "metadata": {},
      "outputs": [],
      "source": [
        "def getsim(movieid,topn=10):\n",
        "    index1=similarity[movieid].sort_values(ascending=False).index[1:topn+1]\n",
        "    val=val=similarity[movieid].sort_values(ascending=False).values[1:topn+1]\n",
        "    df=pd.DataFrame(val,index=index1).rename(columns={0:\"similarity\"}).set_index(index1)\n",
        "    return df.merge(movies.set_index(\"movieId\"), on='movieId').index"
      ]
    },
    {
      "cell_type": "code",
      "execution_count": 174,
      "metadata": {},
      "outputs": [
        {
          "data": {
            "text/plain": [
              "Index([3114, 480, 780, 260, 356, 364, 1210, 648, 1265, 1270], dtype='int64', name='movieId')"
            ]
          },
          "execution_count": 174,
          "metadata": {},
          "output_type": "execute_result"
        }
      ],
      "source": [
        "getsim(1,10)"
      ]
    },
    {
      "cell_type": "code",
      "execution_count": null,
      "metadata": {},
      "outputs": [],
      "source": []
    }
  ],
  "metadata": {
    "colab": {
      "provenance": []
    },
    "kernelspec": {
      "display_name": "base",
      "language": "python",
      "name": "python3"
    },
    "language_info": {
      "codemirror_mode": {
        "name": "ipython",
        "version": 3
      },
      "file_extension": ".py",
      "mimetype": "text/x-python",
      "name": "python",
      "nbconvert_exporter": "python",
      "pygments_lexer": "ipython3",
      "version": "3.11.3"
    },
    "orig_nbformat": 4,
    "vscode": {
      "interpreter": {
        "hash": "ad2bdc8ecc057115af97d19610ffacc2b4e99fae6737bb82f5d7fb13d2f2c186"
      }
    }
  },
  "nbformat": 4,
  "nbformat_minor": 0
}
