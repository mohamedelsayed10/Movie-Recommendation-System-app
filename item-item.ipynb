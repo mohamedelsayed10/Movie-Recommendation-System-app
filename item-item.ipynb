{
  "cells": [
    {
      "cell_type": "markdown",
      "metadata": {
        "id": "-5DysE0zoUFA"
      },
      "source": [
        "# `01` Import Necessary Libraries"
      ]
    },
    {
      "cell_type": "code",
      "execution_count": 1,
      "metadata": {
        "id": "2ka2hsQPoUFB"
      },
      "outputs": [],
      "source": [
        "import numpy as np\n",
        "import pandas as pd\n",
        "from sklearn.metrics.pairwise import cosine_similarity\n"
      ]
    },
    {
      "cell_type": "code",
      "execution_count": 2,
      "metadata": {},
      "outputs": [],
      "source": [
        "\n",
        "ratings = pd.read_csv(r\"C:\\Users\\mohamed elsayed\\Desktop\\ml-latest-small\\Movie Recommendation System app\\dataset\\ratings.csv\")\n",
        "movies = pd.read_csv(r\"C:\\Users\\mohamed elsayed\\Desktop\\ml-latest-small\\Movie Recommendation System app\\dataset\\movies.csv\")\n"
      ]
    },
    {
      "cell_type": "code",
      "execution_count": 3,
      "metadata": {},
      "outputs": [],
      "source": [
        "movie_data = pd.merge(ratings, movies, on='movieId')\n"
      ]
    },
    {
      "cell_type": "code",
      "execution_count": 4,
      "metadata": {},
      "outputs": [
        {
          "name": "stderr",
          "output_type": "stream",
          "text": [
            "C:\\Users\\mohamed elsayed\\AppData\\Local\\Temp\\ipykernel_6884\\3742186625.py:2: FutureWarning: A value is trying to be set on a copy of a DataFrame or Series through chained assignment using an inplace method.\n",
            "The behavior will change in pandas 3.0. This inplace method will never work because the intermediate object on which we are setting values always behaves as a copy.\n",
            "\n",
            "For example, when doing 'df[col].method(value, inplace=True)', try using 'df.method({col: value}, inplace=True)' or df[col] = df[col].method(value) instead, to perform the operation inplace on the original object.\n",
            "\n",
            "\n",
            "  movies[\"year\"].fillna(1995, inplace=True)\n"
          ]
        }
      ],
      "source": [
        "\n",
        "movies[\"year\"]=movies[\"title\"].str.extract(r'\\((\\d{4})\\)')\n",
        "movies[\"year\"].fillna(1995, inplace=True)\n",
        "movies[\"year_cat\"]=pd.cut(movies[\"year\"].astype(int), bins=[1900, 1970, 1990, 2000, 2010, 2020], labels=[\"1900-1970\", \"1970-1990\", \"1990-2000\", \"2000-2010\", \"2010-2020\"])\n",
        "year_cat=pd.get_dummies(movies[\"year_cat\"],dtype=int)   \n",
        "year_cat[\"movieId\"]=movies[\"movieId\"] "
      ]
    },
    {
      "cell_type": "code",
      "execution_count": 5,
      "metadata": {},
      "outputs": [],
      "source": [
        "  \n",
        "movie_genres = movies.set_index('movieId')['genres'].str.get_dummies(sep='|')\n"
      ]
    },
    {
      "cell_type": "code",
      "execution_count": 6,
      "metadata": {},
      "outputs": [],
      "source": [
        "utility_matrix= movie_data.pivot_table(index='movieId', columns='userId', values='rating')"
      ]
    },
    {
      "cell_type": "code",
      "execution_count": 7,
      "metadata": {},
      "outputs": [],
      "source": [
        "utility_matrix.fillna(0, inplace=True)\n"
      ]
    },
    {
      "cell_type": "code",
      "execution_count": 8,
      "metadata": {},
      "outputs": [],
      "source": [
        "\n",
        "final=utility_matrix.merge(movie_genres, on='movieId', how='inner')\n",
        "final=final.merge(year_cat, on='movieId', how='inner')\n",
        "final.set_index('movieId', inplace=True)\n"
      ]
    },
    {
      "cell_type": "code",
      "execution_count": 9,
      "metadata": {},
      "outputs": [],
      "source": [
        "similarity=cosine_similarity(final)\n",
        "similarity=pd.DataFrame(similarity, index=final.index, columns=final.index,dtype=float)\n"
      ]
    },
    {
      "cell_type": "code",
      "execution_count": 10,
      "metadata": {},
      "outputs": [],
      "source": [
        "def getsim(movieid,topn=10):\n",
        "    index1=similarity[movieid].sort_values(ascending=False).index[1:topn+1]\n",
        "    val=val=similarity[movieid].sort_values(ascending=False).values[1:topn+1]\n",
        "    df=pd.DataFrame(val,index=index1).rename(columns={0:\"similarity\"}).set_index(index1)\n",
        "    return df.merge(movies.set_index(\"movieId\"), on='movieId')"
      ]
    },
    {
      "cell_type": "code",
      "execution_count": 12,
      "metadata": {},
      "outputs": [
        {
          "data": {
            "text/html": [
              "<div>\n",
              "<style scoped>\n",
              "    .dataframe tbody tr th:only-of-type {\n",
              "        vertical-align: middle;\n",
              "    }\n",
              "\n",
              "    .dataframe tbody tr th {\n",
              "        vertical-align: top;\n",
              "    }\n",
              "\n",
              "    .dataframe thead th {\n",
              "        text-align: right;\n",
              "    }\n",
              "</style>\n",
              "<table border=\"1\" class=\"dataframe\">\n",
              "  <thead>\n",
              "    <tr style=\"text-align: right;\">\n",
              "      <th></th>\n",
              "      <th>similarity</th>\n",
              "      <th>title</th>\n",
              "      <th>genres</th>\n",
              "      <th>year</th>\n",
              "      <th>year_cat</th>\n",
              "    </tr>\n",
              "    <tr>\n",
              "      <th>movieId</th>\n",
              "      <th></th>\n",
              "      <th></th>\n",
              "      <th></th>\n",
              "      <th></th>\n",
              "      <th></th>\n",
              "    </tr>\n",
              "  </thead>\n",
              "  <tbody>\n",
              "    <tr>\n",
              "      <th>3114</th>\n",
              "      <td>0.573591</td>\n",
              "      <td>Toy Story 2 (1999)</td>\n",
              "      <td>Adventure|Animation|Children|Comedy|Fantasy</td>\n",
              "      <td>1999</td>\n",
              "      <td>1990-2000</td>\n",
              "    </tr>\n",
              "    <tr>\n",
              "      <th>480</th>\n",
              "      <td>0.565318</td>\n",
              "      <td>Jurassic Park (1993)</td>\n",
              "      <td>Action|Adventure|Sci-Fi|Thriller</td>\n",
              "      <td>1993</td>\n",
              "      <td>1990-2000</td>\n",
              "    </tr>\n",
              "    <tr>\n",
              "      <th>780</th>\n",
              "      <td>0.563897</td>\n",
              "      <td>Independence Day (a.k.a. ID4) (1996)</td>\n",
              "      <td>Action|Adventure|Sci-Fi|Thriller</td>\n",
              "      <td>1996</td>\n",
              "      <td>1990-2000</td>\n",
              "    </tr>\n",
              "    <tr>\n",
              "      <th>260</th>\n",
              "      <td>0.556915</td>\n",
              "      <td>Star Wars: Episode IV - A New Hope (1977)</td>\n",
              "      <td>Action|Adventure|Sci-Fi</td>\n",
              "      <td>1977</td>\n",
              "      <td>1970-1990</td>\n",
              "    </tr>\n",
              "    <tr>\n",
              "      <th>356</th>\n",
              "      <td>0.546832</td>\n",
              "      <td>Forrest Gump (1994)</td>\n",
              "      <td>Comedy|Drama|Romance|War</td>\n",
              "      <td>1994</td>\n",
              "      <td>1990-2000</td>\n",
              "    </tr>\n",
              "    <tr>\n",
              "      <th>364</th>\n",
              "      <td>0.541285</td>\n",
              "      <td>Lion King, The (1994)</td>\n",
              "      <td>Adventure|Animation|Children|Drama|Musical|IMAX</td>\n",
              "      <td>1994</td>\n",
              "      <td>1990-2000</td>\n",
              "    </tr>\n",
              "    <tr>\n",
              "      <th>1210</th>\n",
              "      <td>0.540599</td>\n",
              "      <td>Star Wars: Episode VI - Return of the Jedi (1983)</td>\n",
              "      <td>Action|Adventure|Sci-Fi</td>\n",
              "      <td>1983</td>\n",
              "      <td>1970-1990</td>\n",
              "    </tr>\n",
              "    <tr>\n",
              "      <th>648</th>\n",
              "      <td>0.538554</td>\n",
              "      <td>Mission: Impossible (1996)</td>\n",
              "      <td>Action|Adventure|Mystery|Thriller</td>\n",
              "      <td>1996</td>\n",
              "      <td>1990-2000</td>\n",
              "    </tr>\n",
              "    <tr>\n",
              "      <th>1265</th>\n",
              "      <td>0.534304</td>\n",
              "      <td>Groundhog Day (1993)</td>\n",
              "      <td>Comedy|Fantasy|Romance</td>\n",
              "      <td>1993</td>\n",
              "      <td>1990-2000</td>\n",
              "    </tr>\n",
              "    <tr>\n",
              "      <th>1270</th>\n",
              "      <td>0.530187</td>\n",
              "      <td>Back to the Future (1985)</td>\n",
              "      <td>Adventure|Comedy|Sci-Fi</td>\n",
              "      <td>1985</td>\n",
              "      <td>1970-1990</td>\n",
              "    </tr>\n",
              "  </tbody>\n",
              "</table>\n",
              "</div>"
            ],
            "text/plain": [
              "         similarity                                              title  \\\n",
              "movieId                                                                  \n",
              "3114       0.573591                                 Toy Story 2 (1999)   \n",
              "480        0.565318                               Jurassic Park (1993)   \n",
              "780        0.563897               Independence Day (a.k.a. ID4) (1996)   \n",
              "260        0.556915          Star Wars: Episode IV - A New Hope (1977)   \n",
              "356        0.546832                                Forrest Gump (1994)   \n",
              "364        0.541285                              Lion King, The (1994)   \n",
              "1210       0.540599  Star Wars: Episode VI - Return of the Jedi (1983)   \n",
              "648        0.538554                         Mission: Impossible (1996)   \n",
              "1265       0.534304                               Groundhog Day (1993)   \n",
              "1270       0.530187                          Back to the Future (1985)   \n",
              "\n",
              "                                                  genres  year   year_cat  \n",
              "movieId                                                                    \n",
              "3114         Adventure|Animation|Children|Comedy|Fantasy  1999  1990-2000  \n",
              "480                     Action|Adventure|Sci-Fi|Thriller  1993  1990-2000  \n",
              "780                     Action|Adventure|Sci-Fi|Thriller  1996  1990-2000  \n",
              "260                              Action|Adventure|Sci-Fi  1977  1970-1990  \n",
              "356                             Comedy|Drama|Romance|War  1994  1990-2000  \n",
              "364      Adventure|Animation|Children|Drama|Musical|IMAX  1994  1990-2000  \n",
              "1210                             Action|Adventure|Sci-Fi  1983  1970-1990  \n",
              "648                    Action|Adventure|Mystery|Thriller  1996  1990-2000  \n",
              "1265                              Comedy|Fantasy|Romance  1993  1990-2000  \n",
              "1270                             Adventure|Comedy|Sci-Fi  1985  1970-1990  "
            ]
          },
          "execution_count": 12,
          "metadata": {},
          "output_type": "execute_result"
        }
      ],
      "source": [
        "df=getsim(1,10)\n",
        "df.merge(movies.set_index(\"movieId\"), on='movieId')"
      ]
    },
    {
      "cell_type": "code",
      "execution_count": null,
      "metadata": {},
      "outputs": [],
      "source": []
    }
  ],
  "metadata": {
    "colab": {
      "provenance": []
    },
    "kernelspec": {
      "display_name": "base",
      "language": "python",
      "name": "python3"
    },
    "language_info": {
      "codemirror_mode": {
        "name": "ipython",
        "version": 3
      },
      "file_extension": ".py",
      "mimetype": "text/x-python",
      "name": "python",
      "nbconvert_exporter": "python",
      "pygments_lexer": "ipython3",
      "version": "3.11.3"
    },
    "orig_nbformat": 4,
    "vscode": {
      "interpreter": {
        "hash": "ad2bdc8ecc057115af97d19610ffacc2b4e99fae6737bb82f5d7fb13d2f2c186"
      }
    }
  },
  "nbformat": 4,
  "nbformat_minor": 0
}
