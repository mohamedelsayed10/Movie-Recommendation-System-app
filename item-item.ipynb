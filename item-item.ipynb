{
  "cells": [
    {
      "cell_type": "markdown",
      "metadata": {
        "id": "-5DysE0zoUFA"
      },
      "source": [
        "# `01` Import Necessary Libraries"
      ]
    },
    {
      "cell_type": "code",
      "execution_count": 114,
      "metadata": {
        "id": "2ka2hsQPoUFB"
      },
      "outputs": [],
      "source": [
        "import numpy as np\n",
        "import pandas as pd\n",
        "from sklearn.metrics.pairwise import cosine_similarity\n"
      ]
    },
    {
      "cell_type": "code",
      "execution_count": null,
      "metadata": {},
      "outputs": [],
      "source": [
        "ratings = pd.read_csv('ratings.csv')\n",
        "movies = pd.read_csv('movies.csv')"
      ]
    },
    {
      "cell_type": "code",
      "execution_count": null,
      "metadata": {},
      "outputs": [],
      "source": [
        "movie_data = pd.merge(ratings, movies, on='movieId')\n"
      ]
    },
    {
      "cell_type": "code",
      "execution_count": null,
      "metadata": {},
      "outputs": [],
      "source": [
        "\n",
        "movies[\"year\"]=movie_data.title.str.extract(r\"\\((\\d{4})\\)\", expand=True)\n",
        "movies[\"year\"].fillna(1995, inplace=True)\n",
        "movies[\"year_cat\"]=pd.cut(movies[\"year\"].astype(int), bins=[1900, 1970, 1990, 2000, 2010, 2020], labels=[\"1900-1970\", \"1970-1990\", \"1990-2000\", \"2000-2010\", \"2010-2020\"])\n",
        "year_cat=pd.get_dummies(movies[\"year_cat\"],dtype=int)   \n",
        "year_cat[\"movieId\"]=movies[\"movieId\"] "
      ]
    },
    {
      "cell_type": "code",
      "execution_count": null,
      "metadata": {},
      "outputs": [],
      "source": [
        "  \n",
        "movie_genres = movies.set_index('movieId')['genres'].str.get_dummies(sep='|')\n"
      ]
    },
    {
      "cell_type": "code",
      "execution_count": null,
      "metadata": {},
      "outputs": [],
      "source": [
        "utility_matrix= movie_data.pivot_table(index='movieId', columns='userId', values='rating')"
      ]
    },
    {
      "cell_type": "code",
      "execution_count": null,
      "metadata": {},
      "outputs": [],
      "source": [
        "utility_matrix.fillna(0, inplace=True)\n"
      ]
    },
    {
      "cell_type": "code",
      "execution_count": null,
      "metadata": {},
      "outputs": [],
      "source": [
        "\n",
        "final=utility_matrix.merge(movie_genres, on='movieId', how='inner')\n",
        "final=final.merge(year_cat, on='movieId', how='inner')\n",
        "final.set_index('movieId', inplace=True)\n"
      ]
    },
    {
      "cell_type": "code",
      "execution_count": null,
      "metadata": {},
      "outputs": [],
      "source": [
        "similarity=cosine_similarity(final)\n",
        "similarity=pd.DataFrame(similarity, index=final.index, columns=final.index,dtype=float)\n"
      ]
    },
    {
      "cell_type": "code",
      "execution_count": 148,
      "metadata": {},
      "outputs": [
        {
          "data": {
            "text/html": [
              "<div>\n",
              "<style scoped>\n",
              "    .dataframe tbody tr th:only-of-type {\n",
              "        vertical-align: middle;\n",
              "    }\n",
              "\n",
              "    .dataframe tbody tr th {\n",
              "        vertical-align: top;\n",
              "    }\n",
              "\n",
              "    .dataframe thead th {\n",
              "        text-align: right;\n",
              "    }\n",
              "</style>\n",
              "<table border=\"1\" class=\"dataframe\">\n",
              "  <thead>\n",
              "    <tr style=\"text-align: right;\">\n",
              "      <th></th>\n",
              "      <th>movieId</th>\n",
              "      <th>title</th>\n",
              "      <th>genres</th>\n",
              "      <th>year</th>\n",
              "      <th>year_cat</th>\n",
              "    </tr>\n",
              "  </thead>\n",
              "  <tbody>\n",
              "    <tr>\n",
              "      <th>224</th>\n",
              "      <td>260</td>\n",
              "      <td>Star Wars: Episode IV - A New Hope (1977)</td>\n",
              "      <td>Action|Adventure|Sci-Fi</td>\n",
              "      <td>1981</td>\n",
              "      <td>1970-1990</td>\n",
              "    </tr>\n",
              "    <tr>\n",
              "      <th>314</th>\n",
              "      <td>356</td>\n",
              "      <td>Forrest Gump (1994)</td>\n",
              "      <td>Comedy|Drama|Romance|War</td>\n",
              "      <td>1995</td>\n",
              "      <td>1990-2000</td>\n",
              "    </tr>\n",
              "    <tr>\n",
              "      <th>418</th>\n",
              "      <td>480</td>\n",
              "      <td>Jurassic Park (1993)</td>\n",
              "      <td>Action|Adventure|Sci-Fi|Thriller</td>\n",
              "      <td>1998</td>\n",
              "      <td>1990-2000</td>\n",
              "    </tr>\n",
              "    <tr>\n",
              "      <th>615</th>\n",
              "      <td>780</td>\n",
              "      <td>Independence Day (a.k.a. ID4) (1996)</td>\n",
              "      <td>Action|Adventure|Sci-Fi|Thriller</td>\n",
              "      <td>1996</td>\n",
              "      <td>1990-2000</td>\n",
              "    </tr>\n",
              "    <tr>\n",
              "      <th>2355</th>\n",
              "      <td>3114</td>\n",
              "      <td>Toy Story 2 (1999)</td>\n",
              "      <td>Adventure|Animation|Children|Comedy|Fantasy</td>\n",
              "      <td>1994</td>\n",
              "      <td>1990-2000</td>\n",
              "    </tr>\n",
              "  </tbody>\n",
              "</table>\n",
              "</div>"
            ],
            "text/plain": [
              "      movieId                                      title  \\\n",
              "224       260  Star Wars: Episode IV - A New Hope (1977)   \n",
              "314       356                        Forrest Gump (1994)   \n",
              "418       480                       Jurassic Park (1993)   \n",
              "615       780       Independence Day (a.k.a. ID4) (1996)   \n",
              "2355     3114                         Toy Story 2 (1999)   \n",
              "\n",
              "                                           genres  year   year_cat  \n",
              "224                       Action|Adventure|Sci-Fi  1981  1970-1990  \n",
              "314                      Comedy|Drama|Romance|War  1995  1990-2000  \n",
              "418              Action|Adventure|Sci-Fi|Thriller  1998  1990-2000  \n",
              "615              Action|Adventure|Sci-Fi|Thriller  1996  1990-2000  \n",
              "2355  Adventure|Animation|Children|Comedy|Fantasy  1994  1990-2000  "
            ]
          },
          "execution_count": 148,
          "metadata": {},
          "output_type": "execute_result"
        }
      ],
      "source": [
        "def get_similar_movies(movieId):\n",
        "    sim=similarity[movieId].sort_values(ascending=False).head(6).index[1:]\n",
        "    return movies[movies['movieId'].isin(sim)]\n",
        "get_similar_movies(1)"
      ]
    }
  ],
  "metadata": {
    "colab": {
      "provenance": []
    },
    "kernelspec": {
      "display_name": "base",
      "language": "python",
      "name": "python3"
    },
    "language_info": {
      "codemirror_mode": {
        "name": "ipython",
        "version": 3
      },
      "file_extension": ".py",
      "mimetype": "text/x-python",
      "name": "python",
      "nbconvert_exporter": "python",
      "pygments_lexer": "ipython3",
      "version": "3.11.3"
    },
    "orig_nbformat": 4,
    "vscode": {
      "interpreter": {
        "hash": "ad2bdc8ecc057115af97d19610ffacc2b4e99fae6737bb82f5d7fb13d2f2c186"
      }
    }
  },
  "nbformat": 4,
  "nbformat_minor": 0
}
